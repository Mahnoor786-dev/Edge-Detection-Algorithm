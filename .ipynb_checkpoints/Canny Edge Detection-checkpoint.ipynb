{
 "cells": [
  {
   "cell_type": "code",
   "execution_count": 1,
   "id": "e9ee113f",
   "metadata": {},
   "outputs": [],
   "source": [
    "import numpy as np\n",
    "import matplotlib.pyplot as plt\n",
    "import cv2 as cv\n",
    "import math"
   ]
  },
  {
   "cell_type": "code",
   "execution_count": 2,
   "id": "91812643",
   "metadata": {},
   "outputs": [],
   "source": [
    "#convolve image with kernel\n",
    "def convolution(image, kernel):\n",
    "    resultImage = np.zeros(shape=(image.shape[0],image.shape[1]))\n",
    "    kernel = np.flip(kernel,1) #flip horizontally\n",
    "    kernel = np.flip(kernel,0) #flip vertically\n",
    "    kernelShape = kernel.shape[0] #rows = columns in kernel\n",
    "    padCount = int(kernelShape//2)  #now of rows above and below the centre of kernel = padding count\n",
    "    image = np.pad(image, (padCount, padCount), 'constant', constant_values=(0)) #padding zeros in image for boundary cases\n",
    "    resultImage = np.pad(resultImage, (padCount, padCount), 'constant', constant_values=(0)) #padding zeros in resultimage to keep indices of a pixel same as original image\n",
    "    rows, cols = resultImage.shape\n",
    "    for i in range(padCount,rows-padCount):\n",
    "        for j in range(padCount,cols-padCount):\n",
    "            #slice corresponding array to multiply with kernel\n",
    "            x1 = i-padCount\n",
    "            y1 = j-padCount\n",
    "            x2 = i+padCount+1\n",
    "            y2 = j+padCount+1\n",
    "            subImage=image[x1:x2, y1:y2]\n",
    "            #print(subImage)\n",
    "            pixelVal=0\n",
    "            for row in range(kernelShape):\n",
    "                for col in range(kernelShape):\n",
    "                    pixelVal += (kernel[row][col] * subImage[row][col])\n",
    "            resultImage[i][j]=pixelVal\n",
    "#delete all 0 padded rows and columns\n",
    "    resultImage = np.delete(resultImage, list(range(0,padCount)), 0) #delete 0 padded rows on top\n",
    "    resultImage = np.delete(resultImage, list(range(rows-padCount-padCount,rows-padCount)), 0) #delete 0 padded rows at bottom\n",
    "    resultImage = np.delete(resultImage, list(range(0,padCount)), 1)  #delete 0 padded columns on top\n",
    "    size=resultImage.shape[1]\n",
    "    #resultImage = np.delete(resultImage, list(range(size-padCount,size)), 1) #delete 0 padded columns at bottom\n",
    "    resultImage = np.delete(resultImage, list(range(cols-padCount-padCount,cols-padCount)), 1) #delete 0 padded columns at bottom\n",
    "    resultImage = np.clip(resultImage, 0, 255)\n",
    "    return resultImage"
   ]
  },
  {
   "cell_type": "code",
   "execution_count": 3,
   "id": "9e1d0224",
   "metadata": {},
   "outputs": [],
   "source": [
    "# gaussian smoothing\n",
    "def noise_reduction(img):\n",
    "    result = np.zeros((img.shape[0],img.shape[1])) #array of zeros having same shape as image to hold convolution result\n",
    "    gaussianKernel = 1/9*(np.array([[1,1,1],[1,1,1],[1,1,1]])) # 3*3 gaussian smoothing kernel\n",
    "    result = convolution(img, gaussianKernel)\n",
    "    return result"
   ]
  },
  {
   "cell_type": "code",
   "execution_count": 4,
   "id": "8a6568d1",
   "metadata": {},
   "outputs": [],
   "source": [
    "def gradient_calculation(smoothedImg):\n",
    "    fx = fy = magnitudeImg = np.zeros((smoothedImg.shape[0],smoothedImg.shape[1])) #array of zeros having same shape as input image\n",
    "    #Compute derivate 'fx' of smoothed image\n",
    "    sobelFilterX = [[-1,0,1], [-2,0,2], [-1,0,1]] #horizontal sobel filter to compute fx\n",
    "    fx = convolution(smoothedImg, sobelFilterX)\n",
    "    cv.imwrite(\"fx.png\", fx)\n",
    "    \n",
    "    #Compute derivate 'fy' of smoothed image\n",
    "    sobelFilterY = [[-1,-2,-1], [0,0,0], [1,2,1]] #vertical sobel filter to compute fx\n",
    "    fy = convolution(smoothedImg, sobelFilterY)\n",
    "    cv.imwrite(\"fy.png\", fy)\n",
    "    \n",
    "    #Compute gradient magnitude at each pixel\n",
    "    for row in range(0,smoothedImg.shape[0]):\n",
    "        for col in range (0,smoothedImg.shape[1]):\n",
    "            squareSum = pow(fx[row][col],2) + pow(fy[row][col],2)\n",
    "            magnitudeImg[row][col] = math.sqrt(squareSum)\n",
    "    cv.imwrite('magnitude.png', magnitudeImg)\n",
    "    \n",
    "    #Compute gradient direction at each pixel\n",
    "    gradientDirection = np.zeros((smoothedImg.shape[0],smoothedImg.shape[1])) #array of zeros having same shape as input image\n",
    "    for row in range(0,smoothedImg.shape[0]):\n",
    "        for col in range (0,smoothedImg.shape[1]):\n",
    "            gradientDirection[row][col] = np.arctan2(fy[row][col], fx[row][col])\n",
    "            gradientDirection[row][col] = np.rad2deg(gradientDirection[row][col])\n",
    "            gradientDirection[row][col] += 180\n",
    "            \n",
    "    return magnitudeImg , gradientDirection"
   ]
  },
  {
   "cell_type": "code",
   "execution_count": 5,
   "id": "be591cd8",
   "metadata": {},
   "outputs": [],
   "source": [
    "def non_maximum_suppression( magnitudeImg, directionImg):\n",
    "    #loop through image while ignoring boundaries\n",
    "    for row in range(1,directionImg.shape[0]-1):\n",
    "        for col in range(1,directionImg.shape[1]-1):\n",
    "            #off-diagonal neighbors\n",
    "            if((directionImg[row][col] >=22.5 and directionImg[row][col]<=67.5)or(( directionImg[row][col]>=202.5 and directionImg[row][col]<=247.5 ))):\n",
    "                if((magnitudeImg[row-1][col+1] > magnitudeImg[row][col]) or (magnitudeImg[row+1][col-1] > magnitudeImg[row][col])):\n",
    "                    magnitudeImg[row][col]=0;\n",
    "                \n",
    "            #top bottom neighbors    \n",
    "            elif(( directionImg[row][col]>=67.5 and directionImg[row][col]<=112.5 ) or ( directionImg[row][col]>=247.5 and directionImg[row][col]<=292.5 )):\n",
    "                if((magnitudeImg[row-1][col] > magnitudeImg[row][col]) or (magnitudeImg[row+1][col] > magnitudeImg[row][col])):\n",
    "                    magnitudeImg[row][col]=0;\n",
    "                \n",
    "            #diagonal neighbors\n",
    "            elif(( directionImg[row][col]>=112.5 and directionImg[row][col]<=157.5 ) or ( directionImg[row][col]>=292.5 and directionImg[row][col]<=337.5 )):\n",
    "                if((magnitudeImg[row-1][col-1] > magnitudeImg[row][col]) or (magnitudeImg[row+1][col+1] > magnitudeImg[row][col])):\n",
    "                    magnitudeImg[row][col]=0;\n",
    "                \n",
    "            #left right neighbors\n",
    "            elif(( directionImg[row][col]>=157.5 and directionImg[row][col]<=202.5 ) or ( directionImg[row][col]>=337.5 and directionImg[row][col]<=22.5 )):\n",
    "                if((magnitudeImg[row][col-1] > magnitudeImg[row][col]) or (magnitudeImg[row][col+1] > magnitudeImg[row][col])):\n",
    "                    magnitudeImg[row][col]=0;\n",
    "    cv.imwrite(\"nonMaximaSupressed.png\", magnitudeImg)\n",
    "    return magnitudeImg"
   ]
  },
  {
   "cell_type": "code",
   "execution_count": 6,
   "id": "ae2682ea",
   "metadata": {},
   "outputs": [],
   "source": [
    "\n",
    "def double_threshold(suppressedImg,T_low,T_high):\n",
    "     for row in range(0,suppressedImg.shape[0]):\n",
    "        for col in range(0,suppressedImg.shape[1]):\n",
    "            if(suppressedImg[row][col]>T_high):\n",
    "                suppressedImg[row][col]=255\n",
    "            elif (suppressedImg[row][col]< T_low):\n",
    "                suppressedImg[row][col]=0\n",
    "            else:\n",
    "                suppressedImg[row][col]=T_high+T_low/2\n",
    "    return suppressedImg"
   ]
  },
  {
   "cell_type": "code",
   "execution_count": 7,
   "id": "60fd2313",
   "metadata": {},
   "outputs": [],
   "source": [
    "\n",
    "def hysteresis(thresholdedImg):\n",
    "    for row in range(1,suppressedImg.shape[0]-1):\n",
    "        for col in range(1,suppressedImg.shape[1]-1):\n",
    "            "
   ]
  },
  {
   "cell_type": "code",
   "execution_count": 8,
   "id": "429739b6",
   "metadata": {},
   "outputs": [],
   "source": [
    "def main():\n",
    "    img = cv.imread('imgg.png') # Read the image\n",
    "    img_gray = cv.cvtColor(img, cv.COLOR_BGR2GRAY) # Convert to graycsale\n",
    "    smoothedImg = noise_reduction(img_gray) #gaussian smoothing\n",
    "    magnitudeImage, directionImage  = gradient_calculation(smoothedImg) #gradient magnitude image\n",
    "    suppressedImg = non_maximum_suppression(magnitudeImage, directionImage)\n",
    "    thresholdedImg = double_threshold(suppressedImg,70,90)\n",
    "    output = hysteresis(thresholdedImg)"
   ]
  },
  {
   "cell_type": "code",
   "execution_count": 9,
   "id": "4198ef52",
   "metadata": {},
   "outputs": [],
   "source": [
    "if __name__ == \"__main__\":\n",
    "    main()"
   ]
  }
 ],
 "metadata": {
  "kernelspec": {
   "display_name": "Python 3 (ipykernel)",
   "language": "python",
   "name": "python3"
  },
  "language_info": {
   "codemirror_mode": {
    "name": "ipython",
    "version": 3
   },
   "file_extension": ".py",
   "mimetype": "text/x-python",
   "name": "python",
   "nbconvert_exporter": "python",
   "pygments_lexer": "ipython3",
   "version": "3.9.7"
  }
 },
 "nbformat": 4,
 "nbformat_minor": 5
}
